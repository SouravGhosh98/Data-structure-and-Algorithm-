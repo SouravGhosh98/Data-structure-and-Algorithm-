{
 "cells": [
  {
   "cell_type": "markdown",
   "id": "5598d111",
   "metadata": {},
   "source": [
    "Python offers several built-in data structures that allow you to organize, store, and manipulate data effectively. Some common ones include:\n",
    "\n",
    "1. Lists: Ordered collections of items, allowing duplicate values. Lists are mutable, which means you can modify their contents after creation.\n",
    "\n",
    "2. Tuples: Similar to lists, but immutable. Once you create a tuple, you can't change its elements.\n",
    "\n",
    "3. Sets: Unordered collections of unique items. Sets are mutable, and they are useful for tasks like removing duplicates from a list.\n",
    "\n",
    "4. Dictionaries: Key-value pairs where keys are unique and used to access corresponding values. Dictionaries are also mutable and very handy for quick data retrieval.\n",
    "\n",
    "5. Strings: Sequences of characters. While not exactly a traditional data structure, strings are fundamental for text manipulation.\n",
    "\n",
    "6. Arrays: These are provided by the `array` module and are similar to lists, but they are more specialized for storing sequences of the same type of data."
   ]
  },
  {
   "cell_type": "code",
   "execution_count": 1,
   "id": "55e04d50",
   "metadata": {},
   "outputs": [
    {
     "name": "stdout",
     "output_type": "stream",
     "text": [
      "['apple', 'banana', 'orange', 'grape']\n"
     ]
    }
   ],
   "source": [
    "# 1. Lists:-\n",
    "fruits = [\"apple\", \"banana\", \"orange\"]\n",
    "fruits.append(\"grape\")\n",
    "print(fruits)"
   ]
  },
  {
   "cell_type": "code",
   "execution_count": 2,
   "id": "f4790153",
   "metadata": {},
   "outputs": [
    {
     "name": "stdout",
     "output_type": "stream",
     "text": [
      "x: 3 y: 4\n"
     ]
    }
   ],
   "source": [
    "# 2. Tuples:-\n",
    "coordinates = (3, 4)\n",
    "x, y = coordinates\n",
    "print(\"x:\", x, \"y:\", y)"
   ]
  },
  {
   "cell_type": "code",
   "execution_count": 3,
   "id": "932d1d87",
   "metadata": {},
   "outputs": [
    {
     "name": "stdout",
     "output_type": "stream",
     "text": [
      "{1, 2, 3, 4, 5, 6}\n"
     ]
    }
   ],
   "source": [
    "# 3. Sets:-\n",
    "unique_numbers = set([1, 2, 2, 3, 4, 4, 5])\n",
    "unique_numbers.add(6)\n",
    "print(unique_numbers)"
   ]
  },
  {
   "cell_type": "code",
   "execution_count": 4,
   "id": "61556e1d",
   "metadata": {},
   "outputs": [
    {
     "name": "stdout",
     "output_type": "stream",
     "text": [
      "John is 30 years old.\n"
     ]
    }
   ],
   "source": [
    "# 4. Dictionaries:-\n",
    "person = {\n",
    "    \"name\": \"John\",\n",
    "    \"age\": 30,\n",
    "    \"city\": \"New York\"\n",
    "}\n",
    "person[\"occupation\"] = \"engineer\"\n",
    "print(person[\"name\"], \"is\", person[\"age\"], \"years old.\")\n"
   ]
  },
  {
   "cell_type": "code",
   "execution_count": 5,
   "id": "68681cd5",
   "metadata": {},
   "outputs": [
    {
     "name": "stdout",
     "output_type": "stream",
     "text": [
      "13\n",
      "HELLO, WORLD!\n"
     ]
    }
   ],
   "source": [
    "# 5. Strings:-\n",
    "message = \"Hello, world!\"\n",
    "print(len(message))\n",
    "print(message.upper())"
   ]
  },
  {
   "cell_type": "code",
   "execution_count": 6,
   "id": "1f927459",
   "metadata": {},
   "outputs": [
    {
     "name": "stdout",
     "output_type": "stream",
     "text": [
      "array('f', [98.5999984741211, 98.4000015258789, 99.0999984741211, 97.9000015258789])\n"
     ]
    }
   ],
   "source": [
    "# 6. Arrays (using the `array` module):-\n",
    "from array import array\n",
    "temperature_readings = array(\"f\", [98.6, 98.4, 99.1, 97.9])\n",
    "print(temperature_readings)"
   ]
  },
  {
   "cell_type": "code",
   "execution_count": 8,
   "id": "337eb50c",
   "metadata": {},
   "outputs": [
    {
     "name": "stdout",
     "output_type": "stream",
     "text": [
      "      Name  Age           City\n",
      "0    Alice   25       New York\n",
      "1      Bob   30  San Francisco\n",
      "2  Charlie   22    Los Angeles\n",
      "0      Alice\n",
      "1        Bob\n",
      "2    Charlie\n",
      "Name: Name, dtype: object\n",
      "0    25\n",
      "1    30\n",
      "2    22\n",
      "Name: Age, dtype: int64\n",
      "      Name  Age         City Occupation\n",
      "0    Alice   25     New York   Engineer\n",
      "2  Charlie   22  Los Angeles     Writer\n"
     ]
    }
   ],
   "source": [
    "# array using pandas :-\n",
    "import pandas as pd\n",
    "\n",
    "# Create a DataFrame from a dictionary\n",
    "data = {\n",
    "    'Name': ['Alice', 'Bob', 'Charlie'],\n",
    "    'Age': [25, 30, 22],\n",
    "    'City': ['New York', 'San Francisco', 'Los Angeles']\n",
    "}\n",
    "\n",
    "df = pd.DataFrame(data)\n",
    "\n",
    "# Display the DataFrame\n",
    "print(df)\n",
    "\n",
    "# Accessing specific columns\n",
    "print(df['Name'])\n",
    "print(df['Age'])\n",
    "\n",
    "# Adding a new column\n",
    "df['Occupation'] = ['Engineer', 'Designer', 'Writer']\n",
    "\n",
    "# Filtering rows based on a condition\n",
    "young_people = df[df['Age'] < 30]\n",
    "print(young_people)\n"
   ]
  },
  {
   "cell_type": "markdown",
   "id": "fc560298",
   "metadata": {},
   "source": [
    "# Examples of implementing stacks, queues, linked lists, trees, and graphs in Python:-"
   ]
  },
  {
   "cell_type": "code",
   "execution_count": 29,
   "id": "62117fe4",
   "metadata": {},
   "outputs": [
    {
     "name": "stdout",
     "output_type": "stream",
     "text": [
      "[5, 10]\n",
      "10\n",
      "False\n"
     ]
    }
   ],
   "source": [
    "# 1. Stack:-(apply)\n",
    "\n",
    "class Stack:\n",
    "    def __init__(self):\n",
    "        self.items = []\n",
    "\n",
    "    def push(self, item):\n",
    "        self.items.append(item)\n",
    "        return self.items\n",
    "\n",
    "    def pop(self):\n",
    "        if not self.is_empty():\n",
    "            return self.items.pop()\n",
    "\n",
    "    def is_empty(self):\n",
    "        return len(self.items) == 0\n",
    "\n",
    "# Usage\n",
    "stack = Stack()\n",
    "stack.push(5)\n",
    "print(stack.push(10))\n",
    "stack.is_empty()\n",
    "print(stack.pop())\n",
    "print(stack.is_empty())"
   ]
  },
  {
   "cell_type": "code",
   "execution_count": 23,
   "id": "ca6c465f",
   "metadata": {},
   "outputs": [
    {
     "name": "stdout",
     "output_type": "stream",
     "text": [
      "deque([5, 10])\n",
      "5\n"
     ]
    }
   ],
   "source": [
    "# 2. Queue:-(apply)\n",
    "from collections import deque\n",
    "\n",
    "class Queue:\n",
    "    def __init__(self):\n",
    "        self.items = dequee()\n",
    "\n",
    "    def enqueue(self, item):\n",
    "        self.items.append(item)\n",
    "        return self.items\n",
    "\n",
    "    def dequeue(self):\n",
    "        if not self.is_empty():\n",
    "            return self.items.popleft()\n",
    "\n",
    "    def is_empty(self):\n",
    "        return len(self.items) == 0\n",
    "\n",
    "# Usage\n",
    "queue = Queue()\n",
    "queue.enqueue(5)\n",
    "print(queue.enqueue(10))\n",
    "print(queue.dequeue())"
   ]
  },
  {
   "cell_type": "code",
   "execution_count": 37,
   "id": "7d8db542",
   "metadata": {},
   "outputs": [],
   "source": [
    "# 3. Linked List:-(core concept)\n",
    "class Node:\n",
    "    def __init__(self, data):\n",
    "        self.data = data\n",
    "        self.next = None\n",
    "\n",
    "class LinkedList:\n",
    "    def __init__(self):\n",
    "        self.head = None\n",
    "\n",
    "    def append(self, data):\n",
    "        new_node = Node(data)\n",
    "        if not self.head:\n",
    "            self.head = new_node\n",
    "        else:\n",
    "            current = self.head\n",
    "            while current.next:\n",
    "                current = current.next\n",
    "            current.next = new_node\n",
    "\n",
    "# Usage\n",
    "linked_list = LinkedList()\n",
    "linked_list.append(5)\n",
    "linked_list.append(10)"
   ]
  },
  {
   "cell_type": "code",
   "execution_count": 41,
   "id": "6e364331",
   "metadata": {},
   "outputs": [],
   "source": [
    "# 4. Tree:- (core concept)\n",
    "class TreeNode:\n",
    "    def __init__(self, data):\n",
    "        self.data = data\n",
    "        self.left = None\n",
    "        self.right = None\n",
    "\n",
    "# Usage\n",
    "root = TreeNode(5)\n",
    "root.left = TreeNode(3)\n",
    "root.right = TreeNode(8)"
   ]
  },
  {
   "cell_type": "code",
   "execution_count": 42,
   "id": "0cae8052",
   "metadata": {},
   "outputs": [],
   "source": [
    "# 5. Graph:-(core concept)\n",
    "from collections import defaultdict\n",
    "\n",
    "class Graph:\n",
    "    def __init__(self):\n",
    "        self.graph = defaultdict(list)\n",
    "\n",
    "    def add_edge(self, u, v):\n",
    "        self.graph[u].append(v)\n",
    "        self.graph[v].append(u)\n",
    "\n",
    "# Usage\n",
    "graph = Graph()\n",
    "graph.add_edge(1, 2)\n",
    "graph.add_edge(2, 3)"
   ]
  },
  {
   "cell_type": "markdown",
   "id": "6445406b",
   "metadata": {},
   "source": [
    "# types of queues"
   ]
  },
  {
   "cell_type": "code",
   "execution_count": 43,
   "id": "93b7e382",
   "metadata": {},
   "outputs": [
    {
     "name": "stdout",
     "output_type": "stream",
     "text": [
      "5\n"
     ]
    }
   ],
   "source": [
    "# 1. Normal Queue:\n",
    "class Queue:\n",
    "    def __init__(self):\n",
    "        self.items = []\n",
    "\n",
    "    def enqueue(self, item):\n",
    "        self.items.append(item)\n",
    "\n",
    "    def dequeue(self):\n",
    "        if not self.is_empty():\n",
    "            return self.items.pop(0)\n",
    "\n",
    "    def is_empty(self):\n",
    "        return len(self.items) == 0\n",
    "\n",
    "# Usage\n",
    "queue = Queue()\n",
    "queue.enqueue(5)\n",
    "queue.enqueue(10)\n",
    "print(queue.dequeue())"
   ]
  },
  {
   "cell_type": "code",
   "execution_count": 44,
   "id": "22725421",
   "metadata": {},
   "outputs": [
    {
     "name": "stdout",
     "output_type": "stream",
     "text": [
      "Task 2\n"
     ]
    }
   ],
   "source": [
    "# 2. Priority Queue:\n",
    "import heapq\n",
    "class PriorityQueue:\n",
    "    def __init__(self):\n",
    "        self.items = []\n",
    "\n",
    "    def enqueue(self, item, priority):\n",
    "        heapq.heappush(self.items, (priority, item))\n",
    "\n",
    "    def dequeue(self):\n",
    "        if not self.is_empty():\n",
    "            return heapq.heappop(self.items)[1]\n",
    "\n",
    "    def is_empty(self):\n",
    "        return len(self.items) == 0\n",
    "# Usage\n",
    "priority_queue = PriorityQueue()\n",
    "priority_queue.enqueue(\"Task 1\", 3)\n",
    "priority_queue.enqueue(\"Task 2\", 1)\n",
    "print(priority_queue.dequeue())"
   ]
  },
  {
   "cell_type": "code",
   "execution_count": 46,
   "id": "7ab0dbb1",
   "metadata": {},
   "outputs": [
    {
     "name": "stdout",
     "output_type": "stream",
     "text": [
      "5\n"
     ]
    }
   ],
   "source": [
    "# 3. Circular Queue:\n",
    "class CircularQueue:\n",
    "    def __init__(self, size):\n",
    "        self.size = size\n",
    "        self.queue = [None] * size\n",
    "        self.front = self.rear = -1\n",
    "\n",
    "    def enqueue(self, item):\n",
    "        if ((self.rear + 1) % self.size) == self.front:\n",
    "            print(\"Queue is full\")\n",
    "            return\n",
    "        elif self.front == -1:\n",
    "            self.front = self.rear = 0\n",
    "        else:\n",
    "            self.rear = (self.rear + 1) % self.size\n",
    "        self.queue[self.rear] = item\n",
    "\n",
    "    def dequeue(self):\n",
    "        if self.front == -1:\n",
    "            print(\"Queue is empty\")\n",
    "            return\n",
    "        elif self.front == self.rear:\n",
    "            item = self.queue[self.front]\n",
    "            self.front = self.rear = -1\n",
    "            return item\n",
    "        else:\n",
    "            item = self.queue[self.front]\n",
    "            self.front = (self.front + 1) % self.size\n",
    "            return item\n",
    "\n",
    "# Usage\n",
    "circular_queue = CircularQueue(5)\n",
    "circular_queue.enqueue(5)\n",
    "circular_queue.enqueue(10)\n",
    "print(circular_queue.dequeue())"
   ]
  },
  {
   "cell_type": "markdown",
   "id": "cdc7e748",
   "metadata": {},
   "source": [
    "  # Types of Linked list"
   ]
  },
  {
   "cell_type": "code",
   "execution_count": 48,
   "id": "681b7aba",
   "metadata": {},
   "outputs": [],
   "source": [
    " # 1. Singly Linked List:(core concept)\n",
    "\n",
    "class Node:\n",
    "    def __init__(self, data):\n",
    "        self.data = data\n",
    "        self.next = None\n",
    "\n",
    "class SinglyLinkedList:\n",
    "    def __init__(self):\n",
    "        self.head = None\n",
    "\n",
    "    def append(self, data):\n",
    "        new_node = Node(data)\n",
    "        if not self.head:\n",
    "            self.head = new_node\n",
    "        else:\n",
    "            current = self.head\n",
    "            while current.next:\n",
    "                current = current.next\n",
    "            current.next = new_node\n",
    "\n",
    "# Usage\n",
    "singly_linked_list = SinglyLinkedList()\n",
    "singly_linked_list.append(5)\n",
    "singly_linked_list.append(10)"
   ]
  },
  {
   "cell_type": "code",
   "execution_count": 49,
   "id": "a0cb1ca6",
   "metadata": {},
   "outputs": [],
   "source": [
    "# 2. Doubly Linked List:-(core concept)\n",
    "class Node:\n",
    "    def __init__(self, data):\n",
    "        self.data = data\n",
    "        self.prev = None\n",
    "        self.next = None\n",
    "\n",
    "class DoublyLinkedList:\n",
    "    def __init__(self):\n",
    "        self.head = None\n",
    "\n",
    "    def append(self, data):\n",
    "        new_node = Node(data)\n",
    "        if not self.head:\n",
    "            self.head = new_node\n",
    "        else:\n",
    "            current = self.head\n",
    "            while current.next:\n",
    "                current = current.next\n",
    "            current.next = new_node\n",
    "            new_node.prev = current\n",
    "\n",
    "# Usage\n",
    "doubly_linked_list = DoublyLinkedList()\n",
    "doubly_linked_list.append(5)\n",
    "doubly_linked_list.append(10)"
   ]
  },
  {
   "cell_type": "code",
   "execution_count": 50,
   "id": "e3553270",
   "metadata": {},
   "outputs": [],
   "source": [
    "# 3. Circular Linked List:(core concept)\n",
    "class Node:\n",
    "    def __init__(self, data):\n",
    "        self.data = data\n",
    "        self.next = None\n",
    "\n",
    "class CircularLinkedList:\n",
    "    def __init__(self):\n",
    "        self.head = None\n",
    "\n",
    "    def append(self, data):\n",
    "        new_node = Node(data)\n",
    "        if not self.head:\n",
    "            self.head = new_node\n",
    "            self.head.next = self.head\n",
    "        else:\n",
    "            current = self.head\n",
    "            while current.next != self.head:\n",
    "                current = current.next\n",
    "            current.next = new_node\n",
    "            new_node.next = self.head\n",
    "\n",
    "# Usage\n",
    "circular_linked_list = CircularLinkedList()\n",
    "circular_linked_list.append(5)\n",
    "circular_linked_list.append(10)"
   ]
  },
  {
   "cell_type": "markdown",
   "id": "e5101f94",
   "metadata": {},
   "source": [
    "# Types of Tree's "
   ]
  },
  {
   "cell_type": "code",
   "execution_count": 51,
   "id": "8281b9dd",
   "metadata": {},
   "outputs": [],
   "source": [
    "# 1. Binary Tree:(core concept)\n",
    "class TreeNode:\n",
    "    def __init__(self, data):\n",
    "        self.data = data\n",
    "        self.left = None\n",
    "        self.right = None\n",
    "\n",
    "# Usage\n",
    "root = TreeNode(5)\n",
    "root.left = TreeNode(3)\n",
    "root.right = TreeNode(8)"
   ]
  },
  {
   "cell_type": "code",
   "execution_count": 52,
   "id": "0381c18d",
   "metadata": {},
   "outputs": [],
   "source": [
    "# 2.Binary Search Tree (BST):(core concept)\n",
    "class TreeNode:\n",
    "    def __init__(self, key):\n",
    "        self.left = None\n",
    "        self.right = None\n",
    "        self.val = key\n",
    "\n",
    "def insert(root, key):\n",
    "    if root is None:\n",
    "        return TreeNode(key)\n",
    "    else:\n",
    "        if root.val < key:\n",
    "            root.right = insert(root.right, key)\n",
    "        else:\n",
    "            root.left = insert(root.left, key)\n",
    "    return root\n",
    "\n",
    "# Usage\n",
    "root = None\n",
    "keys = [5, 3, 8, 1, 4]\n",
    "for key in keys:\n",
    "    root = insert(root, key)"
   ]
  },
  {
   "cell_type": "code",
   "execution_count": 53,
   "id": "f8c68e65",
   "metadata": {},
   "outputs": [],
   "source": [
    "# 3. AVL Tree:(core concept)\n",
    "class TreeNode:\n",
    "    def __init__(self, key):\n",
    "        self.left = None\n",
    "        self.right = None\n",
    "        self.val = key\n",
    "        self.height = 1\n",
    "\n",
    "def height(node):\n",
    "    if node is None:\n",
    "        return 0\n",
    "    return node.height\n",
    "\n",
    "def balance_factor(node):\n",
    "    if node is None:\n",
    "        return 0\n",
    "    return height(node.left) - height(node.right)\n",
    "\n",
    "def insert(root, key):\n",
    "    if root is None:\n",
    "        return TreeNode(key)\n",
    "    if key < root.val:\n",
    "        root.left = insert(root.left, key)\n",
    "    else:\n",
    "        root.right = insert(root.right, key)\n",
    "    \n",
    "    root.height = 1 + max(height(root.left), height(root.right))\n",
    "\n",
    "    balance = balance_factor(root)\n",
    "\n",
    "    # Left Heavy\n",
    "    if balance > 1:\n",
    "        if key < root.left.val:\n",
    "            return rotate_right(root)\n",
    "        else:\n",
    "            root.left = rotate_left(root.left)\n",
    "            return rotate_right(root)\n",
    "\n",
    "    # Right Heavy\n",
    "    if balance < -1:\n",
    "        if key > root.right.val:\n",
    "            return rotate_left(root)\n",
    "        else:\n",
    "            root.right = rotate_right(root.right)\n",
    "            return rotate_left(root)\n",
    "\n",
    "    return root\n",
    "\n",
    "def rotate_left(z):\n",
    "    y = z.right\n",
    "    T2 = y.left\n",
    "    y.left = z\n",
    "    z.right = T2\n",
    "    z.height = 1 + max(height(z.left), height(z.right))\n",
    "    y.height = 1 + max(height(y.left), height(y.right))\n",
    "    return y\n",
    "\n",
    "def rotate_right(y):\n",
    "    x = y.left\n",
    "    T2 = x.right\n",
    "    x.right = y\n",
    "    y.left = T2\n",
    "    y.height = 1 + max(height(y.left), height(y.right))\n",
    "    x.height = 1 + max(height(x.left), height(x.right))\n",
    "    return x\n",
    "\n",
    "# Usage\n",
    "root = None\n",
    "keys = [5, 3, 8, 1, 4]\n",
    "for key in keys:\n",
    "    root = insert(root, key)"
   ]
  },
  {
   "cell_type": "markdown",
   "id": "6ad53d73",
   "metadata": {},
   "source": [
    "# Tree traversal "
   ]
  },
  {
   "cell_type": "code",
   "execution_count": 54,
   "id": "a8523186",
   "metadata": {},
   "outputs": [
    {
     "name": "stdout",
     "output_type": "stream",
     "text": [
      "In-order Traversal:\n",
      "4 2 5 1 3 \n",
      "Pre-order Traversal:\n",
      "1 2 4 5 3 \n",
      "Post-order Traversal:\n",
      "4 5 2 3 1 \n",
      "Level-order Traversal:\n",
      "1 2 3 4 5 \n"
     ]
    }
   ],
   "source": [
    "# in python the core concept  of traversal\n",
    "class TreeNode:\n",
    "    def __init__(self, key):\n",
    "        self.left = None\n",
    "        self.right = None\n",
    "        self.val = key\n",
    "\n",
    "# In-order Traversal\n",
    "def inorder_traversal(root):\n",
    "    if root:\n",
    "        inorder_traversal(root.left)\n",
    "        print(root.val, end=\" \")\n",
    "        inorder_traversal(root.right)\n",
    "\n",
    "# Pre-order Traversal\n",
    "def preorder_traversal(root):\n",
    "    if root:\n",
    "        print(root.val, end=\" \")\n",
    "        preorder_traversal(root.left)\n",
    "        preorder_traversal(root.right)\n",
    "\n",
    "# Post-order Traversal\n",
    "def postorder_traversal(root):\n",
    "    if root:\n",
    "        postorder_traversal(root.left)\n",
    "        postorder_traversal(root.right)\n",
    "        print(root.val, end=\" \")\n",
    "\n",
    "# Level-order Traversal (Breadth-first Traversal)\n",
    "def levelorder_traversal(root):\n",
    "    if not root:\n",
    "        return\n",
    "    queue = [root]\n",
    "    while queue:\n",
    "        current = queue.pop(0)\n",
    "        print(current.val, end=\" \")\n",
    "        if current.left:\n",
    "            queue.append(current.left)\n",
    "        if current.right:\n",
    "            queue.append(current.right)\n",
    "\n",
    "# Usage\n",
    "root = TreeNode(1)\n",
    "root.left = TreeNode(2)\n",
    "root.right = TreeNode(3)\n",
    "root.left.left = TreeNode(4)\n",
    "root.left.right = TreeNode(5)\n",
    "\n",
    "print(\"In-order Traversal:\")\n",
    "inorder_traversal(root)\n",
    "print()\n",
    "\n",
    "print(\"Pre-order Traversal:\")\n",
    "preorder_traversal(root)\n",
    "print()\n",
    "\n",
    "print(\"Post-order Traversal:\")\n",
    "postorder_traversal(root)\n",
    "print()\n",
    "\n",
    "print(\"Level-order Traversal:\")\n",
    "levelorder_traversal(root)\n",
    "print()"
   ]
  },
  {
   "cell_type": "markdown",
   "id": "184124f7",
   "metadata": {},
   "source": [
    "# types of Graph"
   ]
  },
  {
   "cell_type": "code",
   "execution_count": 65,
   "id": "b14aa618",
   "metadata": {},
   "outputs": [
    {
     "name": "stdout",
     "output_type": "stream",
     "text": [
      "1 -> 2 -> 3\n",
      "2 -> 3\n",
      "3 -> 4\n"
     ]
    }
   ],
   "source": [
    "#1. Directed Graph:\n",
    "class DirectedGraph:\n",
    "    def __init__(self):\n",
    "        self.graph = {}\n",
    "\n",
    "    def add_edge(self, start, end):\n",
    "        if start not in self.graph:\n",
    "            self.graph[start] = []\n",
    "        self.graph[start].append(end)\n",
    "\n",
    "    def display(self):\n",
    "        for node in self.graph:\n",
    "            print(node, \"->\", \" -> \".join(map (str , self.graph[node])))\n",
    "\n",
    "# Usage\n",
    "directed_graph = DirectedGraph()\n",
    "directed_graph.add_edge(1, 2)\n",
    "directed_graph.add_edge(1, 3)\n",
    "directed_graph.add_edge(2, 3)\n",
    "directed_graph.add_edge(3, 4)\n",
    "directed_graph.display()"
   ]
  },
  {
   "cell_type": "code",
   "execution_count": 63,
   "id": "fbf0b8e0",
   "metadata": {},
   "outputs": [
    {
     "name": "stdout",
     "output_type": "stream",
     "text": [
      "1 : 2 3\n",
      "2 : 1 3\n",
      "3 : 1 2 4\n",
      "4 : 3\n"
     ]
    }
   ],
   "source": [
    "# 2. Undirected Graph:\n",
    "class UndirectedGraph:\n",
    "    def __init__(self):\n",
    "        self.graph = {}\n",
    "\n",
    "    def add_edge(self, vertex1, vertex2):\n",
    "        if vertex1 not in self.graph:\n",
    "            self.graph[vertex1] = []\n",
    "        if vertex2 not in self.graph:\n",
    "            self.graph[vertex2] = []\n",
    "        self.graph[vertex1].append(vertex2)\n",
    "        self.graph[vertex2].append(vertex1)\n",
    "\n",
    "    def display(self):\n",
    "        for vertex in self.graph:\n",
    "            print(vertex, \":\", \" \".join(map(str, self.graph[vertex])))\n",
    "\n",
    "# Usage\n",
    "undirected_graph = UndirectedGraph()\n",
    "undirected_graph.add_edge(1, 2)\n",
    "undirected_graph.add_edge(1, 3)\n",
    "undirected_graph.add_edge(2, 3)\n",
    "undirected_graph.add_edge(3, 4)\n",
    "undirected_graph.display()"
   ]
  },
  {
   "cell_type": "markdown",
   "id": "a2c121c2",
   "metadata": {},
   "source": [
    "# some common types of algorithms used in Python for data structures:\n",
    "\n",
    "1. Sorting Algorithms:\n",
    "   - Bubble Sort, Selection Sort, Insertion Sort: Simple sorting methods.\n",
    "   - Merge Sort, Quick Sort: More efficient divide-and-conquer algorithms.\n",
    "   - Heap Sort: Utilizes a binary heap data structure for sorting.\n",
    "2. Searching Algorithms:\n",
    "   - Linear Search: Sequentially checks each element.\n",
    "   - Binary Search: Requires a sorted array and repeatedly divides the search interval in half.\n",
    "3. Graph Algorithms:\n",
    "   - Breadth-First Search (BFS): Explores nodes level by level.\n",
    "   - Depth-First Search (DFS): Explores as far as possible along each branch before backtracking.\n",
    "4. Tree Algorithms:\n",
    "   - Binary Tree Traversals: Inorder, Preorder, Postorder.\n",
    "   - AVL Trees, Red-Black Trees: Self-balancing binary search trees.\n",
    "5. Hashing Algorithms:\n",
    "   - Hash Functions: Convert data into fixed-size values (hash codes).\n",
    "   - Hash Tables: Use hash codes to store and retrieve data efficiently.\n",
    "6. Dynamic Programming:\n",
    "   - Solves problems by breaking them into smaller subproblems and caching solutions to avoid redundant calculations.\n",
    "7. Greedy Algorithms:\n",
    "   - Makes locally optimal choices at each step to find a global optimum.\n",
    "8. Backtracking Algorithms:\n",
    "   - Tries to build solutions incrementally, while undoing a choice if it doesn't lead to a solution.\n",
    "9. Divide and Conquer Algorithms:\n",
    "   - Divides a problem into smaller subproblems, solves them recursively, and combines the solutions to solve the main problem.\n",
    "10. String Algorithms:\n",
    "    - Pattern Matching: Finding occurrences of a pattern in a text.\n",
    "    - Longest Common Subsequence (LCS): Finding the longest subsequence shared between two strings.\n",
    "\n"
   ]
  },
  {
   "cell_type": "markdown",
   "id": "04afb514",
   "metadata": {},
   "source": [
    "# sorting algorithms"
   ]
  },
  {
   "cell_type": "code",
   "execution_count": 5,
   "id": "4223ed17",
   "metadata": {},
   "outputs": [
    {
     "name": "stdout",
     "output_type": "stream",
     "text": [
      "[3, 10, 25, 89, 101, 530]\n"
     ]
    }
   ],
   "source": [
    "# 1. Bubble Sort:(core concept)\n",
    "def bubble_sort(arr):\n",
    "    n = len(arr)\n",
    "    for i in range(n):\n",
    "        for j in range(0, n-i-1):\n",
    "            if arr[j] > arr[j+1]:\n",
    "                arr[j], arr[j+1] = arr[j+1], arr[j]\n",
    "    return arr                \n",
    "                \n",
    "#usege:                \n",
    "bu=[10,101,3,25,89,530]                \n",
    "print(bubble_sort(bu))"
   ]
  },
  {
   "cell_type": "code",
   "execution_count": 7,
   "id": "98c13943",
   "metadata": {},
   "outputs": [
    {
     "name": "stdout",
     "output_type": "stream",
     "text": [
      "[11, 30, 53, 89, 111, 205]\n"
     ]
    }
   ],
   "source": [
    "# 2. Selection Sort:\n",
    "def selection_sort(arr):\n",
    "    n = len(arr)\n",
    "    for i in range(n):\n",
    "        min_index = i\n",
    "        for j in range(i+1, n):\n",
    "            if arr[j] < arr[min_index]:\n",
    "                min_index = j\n",
    "        arr[i], arr[min_index] = arr[min_index], arr[i]\n",
    "    return arr                \n",
    "                \n",
    "#usege:                \n",
    "bu=[111,11,30,205,89,53]                \n",
    "print(selection_sort(bu))        \n"
   ]
  },
  {
   "cell_type": "code",
   "execution_count": 8,
   "id": "437a1d6a",
   "metadata": {},
   "outputs": [
    {
     "name": "stdout",
     "output_type": "stream",
     "text": [
      "[1, 3, 11, 255, 530, 809]\n"
     ]
    }
   ],
   "source": [
    "#3. Insertion Sort:\n",
    "def insertion_sort(arr):\n",
    "    for i in range(1, len(arr)):\n",
    "        key = arr[i]\n",
    "        j = i - 1\n",
    "        while j >= 0 and key < arr[j]:\n",
    "            arr[j+1] = arr[j]\n",
    "            j -= 1\n",
    "        arr[j+1] = key\n",
    "\n",
    "    return arr                \n",
    "                \n",
    "#usege:                \n",
    "bu=[1,11,3,255,809,530]                \n",
    "print(insertion_sort(bu))"
   ]
  },
  {
   "cell_type": "code",
   "execution_count": 12,
   "id": "1410b461",
   "metadata": {},
   "outputs": [
    {
     "name": "stdout",
     "output_type": "stream",
     "text": [
      "[-255, -1, 33, 530, 809, 1102]\n"
     ]
    }
   ],
   "source": [
    "# 4. Merge Sort:\n",
    "def merge_sort(arr):\n",
    "    if len(arr) > 1:\n",
    "        mid = len(arr) // 2\n",
    "        left_half = arr[:mid]\n",
    "        right_half = arr[mid:]\n",
    "\n",
    "        merge_sort(left_half)\n",
    "        merge_sort(right_half)\n",
    "\n",
    "        i = j = k = 0\n",
    "\n",
    "        while i < len(left_half) and j < len(right_half):\n",
    "            if left_half[i] < right_half[j]:\n",
    "                arr[k] = left_half[i]\n",
    "                i += 1\n",
    "            else:\n",
    "                arr[k] = right_half[j]\n",
    "                j += 1\n",
    "            k += 1\n",
    "\n",
    "        while i < len(left_half):\n",
    "            arr[k] = left_half[i]\n",
    "            i += 1\n",
    "            k += 1\n",
    "\n",
    "        while j < len(right_half):\n",
    "            arr[k] = right_half[j]\n",
    "            j += 1\n",
    "            k += 1\n",
    "\n",
    "\n",
    "    return arr                \n",
    "                \n",
    "#usege:                \n",
    "bu=[-1,1102,33,-255,809,530]                \n",
    "print(merge_sort(bu))"
   ]
  },
  {
   "cell_type": "code",
   "execution_count": 13,
   "id": "b948000c",
   "metadata": {},
   "outputs": [
    {
     "name": "stdout",
     "output_type": "stream",
     "text": [
      "[-1102, -1, 2, 33, 255, 530, 809]\n"
     ]
    }
   ],
   "source": [
    "# 5. Quick Sort:\n",
    "def quick_sort(arr):\n",
    "    if len(arr) <= 1:\n",
    "        return arr\n",
    "    pivot = arr[len(arr) // 2]\n",
    "    left = [x for x in arr if x < pivot]\n",
    "    middle = [x for x in arr if x == pivot]\n",
    "    right = [x for x in arr if x > pivot]\n",
    "    return quick_sort(left) + middle + quick_sort(right)\n",
    "    return arr                \n",
    "                \n",
    "#usege:                \n",
    "bu=[-1,-1102,33,2,255,809,530]                \n",
    "print(quick_sort(bu))"
   ]
  },
  {
   "cell_type": "code",
   "execution_count": 14,
   "id": "8b523168",
   "metadata": {},
   "outputs": [
    {
     "name": "stdout",
     "output_type": "stream",
     "text": [
      "[-102, -1, 2, 33, 255, 530, 809, 1102]\n"
     ]
    }
   ],
   "source": [
    "# 6. Heap Sort:\n",
    "def heapify(arr, n, i):\n",
    "    largest = i\n",
    "    left = 2 * i + 1\n",
    "    right = 2 * i + 2\n",
    "\n",
    "    if left < n and arr[left] > arr[largest]:\n",
    "        largest = left\n",
    "\n",
    "    if right < n and arr[right] > arr[largest]:\n",
    "        largest = right\n",
    "\n",
    "    if largest != i:\n",
    "        arr[i], arr[largest] = arr[largest], arr[i]\n",
    "        heapify(arr, n, largest)\n",
    "\n",
    "def heap_sort(arr):\n",
    "    n = len(arr)\n",
    "\n",
    "    for i in range(n // 2 - 1, -1, -1):\n",
    "        heapify(arr, n, i)\n",
    "\n",
    "    for i in range(n - 1, 0, -1):\n",
    "        arr[i], arr[0] = arr[0], arr[i]\n",
    "        heapify(arr, i, 0)\n",
    "    return arr                \n",
    "                \n",
    "#usege:                \n",
    "bu=[-1,1102,-102,33,2,255,809,530]                \n",
    "print( heap_sort(bu))"
   ]
  },
  {
   "cell_type": "markdown",
   "id": "afff061a",
   "metadata": {},
   "source": [
    "# searching algorithms "
   ]
  },
  {
   "cell_type": "code",
   "execution_count": 15,
   "id": "4206469d",
   "metadata": {},
   "outputs": [
    {
     "name": "stdout",
     "output_type": "stream",
     "text": [
      "5\n"
     ]
    }
   ],
   "source": [
    "# 1. Linear Search:\n",
    "def linear_search(arr, target):\n",
    "    for i in range(len(arr)):\n",
    "        if arr[i] == target:\n",
    "            return i\n",
    "    return -1\n",
    "#usege:                \n",
    "bu=[-1,1102,-102,33,2,255,809,530]                \n",
    "print(linear_search(bu , 255))"
   ]
  },
  {
   "cell_type": "code",
   "execution_count": 16,
   "id": "d2a83571",
   "metadata": {},
   "outputs": [
    {
     "name": "stdout",
     "output_type": "stream",
     "text": [
      "4\n"
     ]
    }
   ],
   "source": [
    "# 2. Binary Search (Requires a sorted array):\n",
    "def binary_search(arr, target):\n",
    "    left, right = 0, len(arr) - 1\n",
    "    while left <= right:\n",
    "        mid = left + (right - left) // 2\n",
    "        if arr[mid] == target:\n",
    "            return mid\n",
    "        elif arr[mid] < target:\n",
    "            left = mid + 1\n",
    "        else:\n",
    "            right = mid - 1\n",
    "    return -1\n",
    "#usege:                \n",
    "bu=[-102, -1, 2, 33, 255, 530, 809, 1102]                \n",
    "print(binary_search(bu , 255))\n"
   ]
  },
  {
   "cell_type": "code",
   "execution_count": 23,
   "id": "26c8b3de",
   "metadata": {},
   "outputs": [],
   "source": [
    "# 3. Breadth-First Search (BFS) on a Graph (using a queue):(core concept)\n",
    "from collections import deque\n",
    "\n",
    "def bfs(graph, start):\n",
    "    visited = set()\n",
    "    queue = deque([start])\n",
    "    visited.add(start)\n",
    "\n",
    "    while queue:\n",
    "        vertex = queue.popleft()\n",
    "        print(vertex, end=\" \")\n",
    "\n",
    "        for neighbor in graph[vertex]:\n",
    "            if neighbor not in visited:\n",
    "                queue.append(neighbor)\n",
    "                visited.add(neighbor)\n"
   ]
  },
  {
   "cell_type": "code",
   "execution_count": 25,
   "id": "b69a87bd",
   "metadata": {},
   "outputs": [],
   "source": [
    "# 4. Depth-First Search (DFS) on a Graph (using recursion):(core concept)\n",
    "def dfs(graph, vertex, visited):\n",
    "    visited.add(vertex)\n",
    "    print(vertex, end=\" \")\n",
    "\n",
    "    for neighbor in graph[vertex]:\n",
    "        if neighbor not in visited:\n",
    "            dfs(graph, neighbor, visited)"
   ]
  },
  {
   "cell_type": "markdown",
   "id": "8d5460e2",
   "metadata": {},
   "source": [
    "# graph algorithms"
   ]
  },
  {
   "cell_type": "code",
   "execution_count": 26,
   "id": "6e965118",
   "metadata": {},
   "outputs": [],
   "source": [
    "# 1. Breadth-First Search (BFS):(core concept)\n",
    "from collections import defaultdict, deque\n",
    "\n",
    "def bfs(graph, start):\n",
    "    visited = set()\n",
    "    queue = deque([start])\n",
    "    visited.add(start)\n",
    "\n",
    "    while queue:\n",
    "        vertex = queue.popleft()\n",
    "        print(vertex, end=\" \")\n",
    "\n",
    "        for neighbor in graph[vertex]:\n",
    "            if neighbor not in visited:\n",
    "                queue.append(neighbor)\n",
    "                visited.add(neighbor)\n"
   ]
  },
  {
   "cell_type": "code",
   "execution_count": 27,
   "id": "c1eef1e9",
   "metadata": {},
   "outputs": [],
   "source": [
    "# 2. Depth-First Search (DFS):(core concept)\n",
    "def dfs(graph, vertex, visited):\n",
    "    visited.add(vertex)\n",
    "    print(vertex, end=\" \")\n",
    "\n",
    "    for neighbor in graph[vertex]:\n",
    "        if neighbor not in visited:\n",
    "            dfs(graph, neighbor, visited)\n"
   ]
  },
  {
   "cell_type": "code",
   "execution_count": 28,
   "id": "a9fba420",
   "metadata": {},
   "outputs": [],
   "source": [
    "# 3. Dijkstra's Shortest Path Algorithm:(core concept)\n",
    "import heapq\n",
    "\n",
    "def dijkstra(graph, start):\n",
    "    distances = {vertex: float('infinity') for vertex in graph}\n",
    "    distances[start] = 0\n",
    "    priority_queue = [(0, start)]\n",
    "\n",
    "    while priority_queue:\n",
    "        current_distance, current_vertex = heapq.heappop(priority_queue)\n",
    "\n",
    "        if current_distance > distances[current_vertex]:\n",
    "            continue\n",
    "\n",
    "        for neighbor, weight in graph[current_vertex].items():\n",
    "            distance = current_distance + weight\n",
    "\n",
    "            if distance < distances[neighbor]:\n",
    "                distances[neighbor] = distance\n",
    "                heapq.heappush(priority_queue, (distance, neighbor))\n",
    "\n",
    "    return distances"
   ]
  },
  {
   "cell_type": "code",
   "execution_count": 29,
   "id": "765dde92",
   "metadata": {},
   "outputs": [],
   "source": [
    "# 4. Bellman-Ford Shortest Path Algorithm:(core concept)\n",
    "def bellman_ford(graph, start):\n",
    "    distances = {vertex: float('infinity') for vertex in graph}\n",
    "    distances[start] = 0\n",
    "\n",
    "    for _ in range(len(graph) - 1):\n",
    "        for vertex in graph:\n",
    "            for neighbor, weight in graph[vertex].items():\n",
    "                if distances[vertex] + weight < distances[neighbor]:\n",
    "                    distances[neighbor] = distances[vertex] + weight\n",
    "\n",
    "    return distances\n"
   ]
  },
  {
   "cell_type": "markdown",
   "id": "daa163eb",
   "metadata": {},
   "source": [
    "# Tree algorithms:"
   ]
  },
  {
   "cell_type": "code",
   "execution_count": 30,
   "id": "33dc2788",
   "metadata": {},
   "outputs": [],
   "source": [
    "# 1. Binary Tree Traversals:(core concept)\n",
    "class TreeNode:\n",
    "    def __init__(self, value):\n",
    "        self.val = value\n",
    "        self.left = None\n",
    "        self.right = None\n",
    "\n",
    "def inorder_traversal(node):\n",
    "    if node:\n",
    "        inorder_traversal(node.left)\n",
    "        print(node.val, end=\" \")\n",
    "        inorder_traversal(node.right)\n",
    "\n",
    "def preorder_traversal(node):\n",
    "    if node:\n",
    "        print(node.val, end=\" \")\n",
    "        preorder_traversal(node.left)\n",
    "        preorder_traversal(node.right)\n",
    "\n",
    "def postorder_traversal(node):\n",
    "    if node:\n",
    "        postorder_traversal(node.left)\n",
    "        postorder_traversal(node.right)\n",
    "        print(node.val, end=\" \")\n"
   ]
  },
  {
   "cell_type": "code",
   "execution_count": 31,
   "id": "ef4bca04",
   "metadata": {},
   "outputs": [],
   "source": [
    "# 2. Binary Search Tree (BST) Operations:\n",
    "class TreeNode:\n",
    "    def __init__(self, value):\n",
    "        self.val = value\n",
    "        self.left = None\n",
    "        self.right = None\n",
    "\n",
    "class BST:\n",
    "    def __init__(self):\n",
    "        self.root = None\n",
    "\n",
    "    def insert(self, value):\n",
    "        self.root = self._insert_recursive(self.root, value)\n",
    "\n",
    "    def _insert_recursive(self, node, value):\n",
    "        if not node:\n",
    "            return TreeNode(value)\n",
    "        if value < node.val:\n",
    "            node.left = self._insert_recursive(node.left, value)\n",
    "        else:\n",
    "            node.right = self._insert_recursive(node.right, value)\n",
    "        return node\n",
    "\n",
    "    def search(self, value):\n",
    "        return self._search_recursive(self.root, value)\n",
    "\n",
    "    def _search_recursive(self, node, value):\n",
    "        if not node or node.val == value:\n",
    "            return node\n",
    "        if value < node.val:\n",
    "            return self._search_recursive(node.left, value)\n",
    "        return self._search_recursive(node.right, value)\n"
   ]
  },
  {
   "cell_type": "code",
   "execution_count": 32,
   "id": "4caff5cc",
   "metadata": {},
   "outputs": [],
   "source": [
    "\n",
    "# 3. AVL Tree Balancing:(core concept)\n",
    "class AVLNode:\n",
    "    def __init__(self, value):\n",
    "        self.val = value\n",
    "        self.left = None\n",
    "        self.right = None\n",
    "        self.height = 1\n",
    "\n",
    "def height(node):\n",
    "    if not node:\n",
    "        return 0\n",
    "    return node.height\n",
    "\n",
    "def balance_factor(node):\n",
    "    if not node:\n",
    "        return 0\n",
    "    return height(node.left) - height(node.right)\n",
    "\n",
    "def left_rotate(y):\n",
    "    x = y.right\n",
    "    t2 = x.left\n",
    "\n",
    "    x.left = y\n",
    "    y.right = t2\n",
    "\n",
    "    y.height = 1 + max(height(y.left), height(y.right))\n",
    "    x.height = 1 + max(height(x.left), height(x.right))\n",
    "\n",
    "    return x\n",
    "\n",
    "def right_rotate(x):\n",
    "    y = x.left\n",
    "    t2 = y.right\n",
    "\n",
    "    y.right = x\n",
    "    x.left = t2\n",
    "\n",
    "    x.height = 1 + max(height(x.left), height(x.right))\n",
    "    y.height = 1 + max(height(y.left), height(y.right))\n",
    "\n",
    "    return y"
   ]
  },
  {
   "cell_type": "markdown",
   "id": "1ff6406a",
   "metadata": {},
   "source": [
    "# Hashing algorithms"
   ]
  },
  {
   "cell_type": "code",
   "execution_count": 33,
   "id": "445c8559",
   "metadata": {},
   "outputs": [],
   "source": [
    "# 1. Hash Function Example:(core concept)\n",
    "def simple_hash(key, size):\n",
    "    hash_value = 0\n",
    "    for char in key:\n",
    "        hash_value += ord(char)\n",
    "    return hash_value % size"
   ]
  },
  {
   "cell_type": "code",
   "execution_count": 34,
   "id": "4ffc9144",
   "metadata": {},
   "outputs": [],
   "source": [
    "# 2. Hash Table Implementation:(core concept)\n",
    "class HashTable:\n",
    "    def __init__(self, size):\n",
    "        self.size = size\n",
    "        self.table = [[] for _ in range(size)]\n",
    "\n",
    "    def _hash(self, key):\n",
    "        return sum(ord(char) for char in key) % self.size\n",
    "\n",
    "    def insert(self, key, value):\n",
    "        hash_value = self._hash(key)\n",
    "        self.table[hash_value].append((key, value))\n",
    "\n",
    "    def search(self, key):\n",
    "        hash_value = self._hash(key)\n",
    "        bucket = self.table[hash_value]\n",
    "        for k, v in bucket:\n",
    "            if k == key:\n",
    "                return v\n",
    "        return None"
   ]
  },
  {
   "cell_type": "code",
   "execution_count": 35,
   "id": "5567527e",
   "metadata": {},
   "outputs": [],
   "source": [
    "# 3. Hash Set Implementation:(core concept)\n",
    "class HashSet:\n",
    "    def __init__(self):\n",
    "        self.hash_set = [[] for _ in range(10000)]\n",
    "\n",
    "    def _hash(self, key):\n",
    "        return key % 10000\n",
    "\n",
    "    def add(self, key):\n",
    "        hash_value = self._hash(key)\n",
    "        if key not in self.hash_set[hash_value]:\n",
    "            self.hash_set[hash_value].append(key)\n",
    "\n",
    "    def remove(self, key):\n",
    "        hash_value = self._hash(key)\n",
    "        if key in self.hash_set[hash_value]:\n",
    "            self.hash_set[hash_value].remove(key)\n",
    "\n",
    "    def contains(self, key):\n",
    "        hash_value = self._hash(key)\n",
    "        return key in self.hash_set[hash_value]\n"
   ]
  },
  {
   "cell_type": "markdown",
   "id": "3fa05f54",
   "metadata": {},
   "source": [
    "# Dynamic programming"
   ]
  },
  {
   "cell_type": "code",
   "execution_count": 36,
   "id": "161f7dcb",
   "metadata": {},
   "outputs": [],
   "source": [
    "# Fibonacci Sequence using Memoization (Top-Down approach):\n",
    "def fibonacci(n, memo={}):\n",
    "    if n in memo:\n",
    "        return memo[n]\n",
    "    if n <= 1:\n",
    "        return n\n",
    "    memo[n] = fibonacci(n - 1, memo) + fibonacci(n - 2, memo)\n",
    "    return memo[n]"
   ]
  },
  {
   "cell_type": "code",
   "execution_count": 37,
   "id": "1007be68",
   "metadata": {},
   "outputs": [],
   "source": [
    "# Longest Common Subsequence (LCS) using Bottom-Up approach:\n",
    "def longest_common_subsequence(s1, s2):\n",
    "    m, n = len(s1), len(s2)\n",
    "    dp = [[0] * (n + 1) for _ in range(m + 1)]\n",
    "\n",
    "    for i in range(1, m + 1):\n",
    "        for j in range(1, n + 1):\n",
    "            if s1[i - 1] == s2[j - 1]:\n",
    "                dp[i][j] = dp[i - 1][j - 1] + 1\n",
    "            else:\n",
    "                dp[i][j] = max(dp[i - 1][j], dp[i][j - 1])\n",
    "\n",
    "    lcs_length = dp[m][n]\n",
    "    lcs = []\n",
    "    i, j = m, n\n",
    "    while i > 0 and j > 0:\n",
    "        if s1[i - 1] == s2[j - 1]:\n",
    "            lcs.append(s1[i - 1])\n",
    "            i -= 1\n",
    "            j -= 1\n",
    "        elif dp[i - 1][j] > dp[i][j - 1]:\n",
    "            i -= 1\n",
    "        else:\n",
    "            j -= 1\n",
    "\n",
    "    return lcs[::-1]\n"
   ]
  },
  {
   "cell_type": "markdown",
   "id": "48a7e5a3",
   "metadata": {},
   "source": [
    "# greedy algorithms:"
   ]
  },
  {
   "cell_type": "code",
   "execution_count": 38,
   "id": "ac2edab2",
   "metadata": {},
   "outputs": [],
   "source": [
    "# Activity Selection Problem (Greedy approach to maximize the number of activities):\n",
    "def activity_selection(activities):\n",
    "    activities.sort(key=lambda x: x[1])  # Sort activities by finish time\n",
    "    selected = [activities[0]]\n",
    "    \n",
    "    for i in range(1, len(activities)):\n",
    "        if activities[i][0] >= selected[-1][1]:\n",
    "            selected.append(activities[i])\n",
    "    \n",
    "    return selected"
   ]
  },
  {
   "cell_type": "code",
   "execution_count": 39,
   "id": "29c7254b",
   "metadata": {},
   "outputs": [],
   "source": [
    "# Fractional Knapsack Problem (Greedy approach to maximize the total value within a knapsack's weight limit):\n",
    "def fractional_knapsack(items, capacity):\n",
    "    items.sort(key=lambda x: x[1] / x[0], reverse=True)  # Sort items by value-to-weight ratio\n",
    "    total_value = 0\n",
    "    knapsack = []\n",
    "\n",
    "    for item in items:\n",
    "        if capacity >= item[0]:\n",
    "            knapsack.append(item)\n",
    "            total_value += item[1]\n",
    "            capacity -= item[0]\n",
    "        else:\n",
    "            fraction = capacity / item[0]\n",
    "            knapsack.append((item[0] * fraction, item[1] * fraction))\n",
    "            total_value += item[1] * fraction\n",
    "            break\n",
    "\n",
    "    return total_value, knapsack"
   ]
  },
  {
   "cell_type": "code",
   "execution_count": 40,
   "id": "c69148da",
   "metadata": {},
   "outputs": [
    {
     "name": "stdout",
     "output_type": "stream",
     "text": [
      "'l': 10\n",
      "'o': 00\n",
      "'r': 010\n",
      "'w': 011\n",
      "' ': 1100\n",
      "'d': 1101\n",
      "'e': 1110\n",
      "'h': 1111\n"
     ]
    }
   ],
   "source": [
    "# Huffman Coding (Greedy approach to construct optimal prefix-free codes for characters):\n",
    "import heapq\n",
    "from collections import defaultdict\n",
    "\n",
    "def huffman_coding(data):\n",
    "    freq = defaultdict(int)\n",
    "    for char in data:\n",
    "        freq[char] += 1\n",
    "    \n",
    "    heap = [[weight, [char, \"\"]] for char, weight in freq.items()]\n",
    "    heapq.heapify(heap)\n",
    "    \n",
    "    while len(heap) > 1:\n",
    "        lo = heapq.heappop(heap)\n",
    "        hi = heapq.heappop(heap)\n",
    "        for pair in lo[1:]:\n",
    "            pair[1] = '0' + pair[1]\n",
    "        for pair in hi[1:]:\n",
    "            pair[1] = '1' + pair[1]\n",
    "        heapq.heappush(heap, [lo[0] + hi[0]] + lo[1:] + hi[1:])\n",
    "    \n",
    "    return sorted(heapq.heappop(heap)[1:], key=lambda p: (len(p[-1]), p))\n",
    "\n",
    "data = \"hello world\"\n",
    "huffman_result = huffman_coding(data)\n",
    "for char, code in huffman_result:\n",
    "    print(f\"'{char}': {code}\")\n"
   ]
  },
  {
   "cell_type": "code",
   "execution_count": 41,
   "id": "aeab0e0d",
   "metadata": {},
   "outputs": [
    {
     "name": "stdout",
     "output_type": "stream",
     "text": [
      ". . Q .\n",
      "Q . . .\n",
      ". . . Q\n",
      ". Q . .\n",
      "\n",
      ". Q . .\n",
      ". . . Q\n",
      "Q . . .\n",
      ". . Q .\n",
      "\n"
     ]
    }
   ],
   "source": [
    "# N-Queens Problem (Backtracking to find all solutions for placing N queens on an NxN chessboard):\n",
    "\n",
    "def is_safe(board, row, col, N):\n",
    "    for i in range(col):\n",
    "        if board[row][i] == 1:\n",
    "            return False\n",
    "    for i, j in zip(range(row, -1, -1), range(col, -1, -1)):\n",
    "        if board[i][j] == 1:\n",
    "            return False\n",
    "    for i, j in zip(range(row, N, 1), range(col, -1, -1)):\n",
    "        if board[i][j] == 1:\n",
    "            return False\n",
    "    return True\n",
    "\n",
    "def solve_n_queens_util(board, col, N, solutions):\n",
    "    if col >= N:\n",
    "        solutions.append([list(row) for row in board])\n",
    "        return\n",
    "\n",
    "    for i in range(N):\n",
    "        if is_safe(board, i, col, N):\n",
    "            board[i][col] = 1\n",
    "            solve_n_queens_util(board, col + 1, N, solutions)\n",
    "            board[i][col] = 0\n",
    "\n",
    "def solve_n_queens(N):\n",
    "    board = [[0] * N for _ in range(N)]\n",
    "    solutions = []\n",
    "    solve_n_queens_util(board, 0, N, solutions)\n",
    "    return solutions\n",
    "\n",
    "N = 4  # Change N to the desired board size\n",
    "solutions = solve_n_queens(N)\n",
    "for solution in solutions:\n",
    "    for row in solution:\n",
    "        print(' '.join('Q' if cell == 1 else '.' for cell in row))\n",
    "    print()"
   ]
  },
  {
   "cell_type": "code",
   "execution_count": 42,
   "id": "bd7cdf63",
   "metadata": {},
   "outputs": [
    {
     "name": "stdout",
     "output_type": "stream",
     "text": [
      "[5, 3, 4, 6, 7, 8, 9, 1, 2]\n",
      "[6, 7, 2, 1, 9, 5, 3, 4, 8]\n",
      "[1, 9, 8, 3, 4, 2, 5, 6, 7]\n",
      "[8, 5, 9, 7, 6, 1, 4, 2, 3]\n",
      "[4, 2, 6, 8, 5, 3, 7, 9, 1]\n",
      "[7, 1, 3, 9, 2, 4, 8, 5, 6]\n",
      "[9, 6, 1, 5, 3, 7, 2, 8, 4]\n",
      "[2, 8, 7, 4, 1, 9, 6, 3, 5]\n",
      "[3, 4, 5, 2, 8, 6, 1, 7, 9]\n"
     ]
    }
   ],
   "source": [
    "# Sudoku Solver (Backtracking to solve a Sudoku puzzle):\n",
    "def is_valid(board, row, col, num):\n",
    "    for i in range(9):\n",
    "        if board[row][i] == num or board[i][col] == num:\n",
    "            return False\n",
    "    start_row, start_col = 3 * (row // 3), 3 * (col // 3)\n",
    "    for i in range(3):\n",
    "        for j in range(3):\n",
    "            if board[start_row + i][start_col + j] == num:\n",
    "                return False\n",
    "    return True\n",
    "\n",
    "def solve_sudoku(board):\n",
    "    for row in range(9):\n",
    "        for col in range(9):\n",
    "            if board[row][col] == 0:\n",
    "                for num in range(1, 10):\n",
    "                    if is_valid(board, row, col, num):\n",
    "                        board[row][col] = num\n",
    "                        if solve_sudoku(board):\n",
    "                            return True\n",
    "                        board[row][col] = 0\n",
    "                return False\n",
    "    return True\n",
    "\n",
    "# Example Sudoku puzzle\n",
    "sudoku_board = [\n",
    "    [5, 3, 0, 0, 7, 0, 0, 0, 0],\n",
    "    [6, 0, 0, 1, 9, 5, 0, 0, 0],\n",
    "    [0, 9, 8, 0, 0, 0, 0, 6, 0],\n",
    "    [8, 0, 0, 0, 6, 0, 0, 0, 3],\n",
    "    [4, 0, 0, 8, 0, 3, 0, 0, 1],\n",
    "    [7, 0, 0, 0, 2, 0, 0, 0, 6],\n",
    "    [0, 6, 0, 0, 0, 0, 2, 8, 0],\n",
    "    [0, 0, 0, 4, 1, 9, 0, 0, 5],\n",
    "    [0, 0, 0, 0, 8, 0, 0, 7, 9]\n",
    "]\n",
    "\n",
    "if solve_sudoku(sudoku_board):\n",
    "    for row in sudoku_board:\n",
    "        print(row)\n",
    "else:\n",
    "    print(\"No solution exists.\")\n"
   ]
  },
  {
   "cell_type": "markdown",
   "id": "69f63e4c",
   "metadata": {},
   "source": [
    "# conquer algorithms:"
   ]
  },
  {
   "cell_type": "code",
   "execution_count": 43,
   "id": "9537a842",
   "metadata": {},
   "outputs": [],
   "source": [
    "# Binary Search (Divide and Conquer approach for searching in a sorted array):(core concept)\n",
    "def binary_search(arr, target):\n",
    "    left, right = 0, len(arr) - 1\n",
    "    while left <= right:\n",
    "        mid = left + (right - left) // 2\n",
    "        if arr[mid] == target:\n",
    "            return mid\n",
    "        elif arr[mid] < target:\n",
    "            left = mid + 1\n",
    "        else:\n",
    "            right = mid - 1\n",
    "    return -1\n"
   ]
  },
  {
   "cell_type": "code",
   "execution_count": 44,
   "id": "060193cf",
   "metadata": {},
   "outputs": [],
   "source": [
    "# Merge Sort (Divide and Conquer approach for sorting an array): (core concept)\n",
    "def merge_sort(arr):\n",
    "    if len(arr) > 1:\n",
    "        mid = len(arr) // 2\n",
    "        left_half = arr[:mid]\n",
    "        right_half = arr[mid:]\n",
    "\n",
    "        merge_sort(left_half)\n",
    "        merge_sort(right_half)\n",
    "\n",
    "        i = j = k = 0\n",
    "\n",
    "        while i < len(left_half) and j < len(right_half):\n",
    "            if left_half[i] < right_half[j]:\n",
    "                arr[k] = left_half[i]\n",
    "                i += 1\n",
    "            else:\n",
    "                arr[k] = right_half[j]\n",
    "                j += 1\n",
    "            k += 1\n",
    "\n",
    "        while i < len(left_half):\n",
    "            arr[k] = left_half[i]\n",
    "            i += 1\n",
    "            k += 1\n",
    "\n",
    "        while j < len(right_half):\n",
    "            arr[k] = right_half[j]\n",
    "            j += 1\n",
    "            k += 1"
   ]
  },
  {
   "cell_type": "code",
   "execution_count": 46,
   "id": "cc86929a",
   "metadata": {},
   "outputs": [],
   "source": [
    "# Quick Sort (Divide and Conquer approach for sorting an array with a pivot):(core concept)\n",
    "def quick_sort(arr):\n",
    "    if len(arr) <= 1:\n",
    "        return arr\n",
    "    pivot = arr[len(arr) // 2]\n",
    "    left = [x for x in arr if x < pivot]\n",
    "    middle = [x for x in arr if x == pivot]\n",
    "    right = [x for x in arr if x > pivot]\n",
    "    return quick_sort(left) + middle + quick_sort(right)"
   ]
  },
  {
   "cell_type": "code",
   "execution_count": 47,
   "id": "2d7bdbb9",
   "metadata": {},
   "outputs": [],
   "source": [
    "# Closest Pair of Points (Divide and Conquer approach to find the closest pair among a set of points):(core concept)\n",
    "import math\n",
    "\n",
    "def euclidean_distance(p1, p2):\n",
    "    return math.sqrt((p1[0] - p2[0])**2 + (p1[1] - p2[1])**2)\n",
    "\n",
    "def brute_force_closest_pair(points):\n",
    "    min_distance = float('inf')\n",
    "    for i in range(len(points)):\n",
    "        for j in range(i + 1, len(points)):\n",
    "            distance = euclidean_distance(points[i], points[j])\n",
    "            min_distance = min(min_distance, distance)\n",
    "    return min_distance\n",
    "\n",
    "def closest_pair(points):\n",
    "    n = len(points)\n",
    "    if n <= 3:\n",
    "        return brute_force_closest_pair(points)\n",
    "\n",
    "    points.sort()\n",
    "    mid = n // 2\n",
    "    mid_point = points[mid]\n",
    "\n",
    "    left_half = points[:mid]\n",
    "    right_half = points[mid:]\n",
    "\n",
    "    left_min = closest_pair(left_half)\n",
    "    right_min = closest_pair(right_half)\n",
    "\n",
    "    min_distance = min(left_min, right_min)\n",
    "\n",
    "    strip = []\n",
    "    for point in points:\n",
    "        if abs(point[0] - mid_point[0]) < min_distance:\n",
    "            strip.append(point)\n",
    "\n",
    "    strip_min = brute_force_closest_pair(strip)\n",
    "\n",
    "    return min(min_distance, strip_min)"
   ]
  },
  {
   "cell_type": "code",
   "execution_count": 48,
   "id": "28d0ebdc",
   "metadata": {},
   "outputs": [
    {
     "name": "stdout",
     "output_type": "stream",
     "text": [
      "Pattern found at index 10\n"
     ]
    }
   ],
   "source": [
    "# Pattern Matching (Finding occurrences of a pattern in a text using the Knuth-Morris-Pratt algorithm):\n",
    "def compute_lps(pattern):\n",
    "    m = len(pattern)\n",
    "    lps = [0] * m\n",
    "    length = 0\n",
    "    i = 1\n",
    "\n",
    "    while i < m:\n",
    "        if pattern[i] == pattern[length]:\n",
    "            length += 1\n",
    "            lps[i] = length\n",
    "            i += 1\n",
    "        else:\n",
    "            if length:\n",
    "                length = lps[length - 1]\n",
    "            else:\n",
    "                lps[i] = 0\n",
    "                i += 1\n",
    "\n",
    "    return lps\n",
    "\n",
    "def kmp_search(text, pattern):\n",
    "    n, m = len(text), len(pattern)\n",
    "    lps = compute_lps(pattern)\n",
    "    i = j = 0\n",
    "\n",
    "    while i < n:\n",
    "        if pattern[j] == text[i]:\n",
    "            i += 1\n",
    "            j += 1\n",
    "        if j == m:\n",
    "            print(\"Pattern found at index\", i - j)\n",
    "            j = lps[j - 1]\n",
    "        elif i < n and pattern[j] != text[i]:\n",
    "            if j:\n",
    "                j = lps[j - 1]\n",
    "            else:\n",
    "                i += 1\n",
    "# usege:-\n",
    "text = \"ABABDABACDABABCABAB\"\n",
    "pattern = \"ABABCABAB\"\n",
    "kmp_search(text, pattern)"
   ]
  },
  {
   "cell_type": "code",
   "execution_count": 49,
   "id": "0b05d3e8",
   "metadata": {},
   "outputs": [
    {
     "name": "stdout",
     "output_type": "stream",
     "text": [
      "Longest Common Subsequence: GTAB\n"
     ]
    }
   ],
   "source": [
    "# Longest Common Subsequence (LCS) (Finding the longest subsequence shared between two strings):\n",
    "def longest_common_subsequence(s1, s2):\n",
    "    m, n = len(s1), len(s2)\n",
    "    dp = [[0] * (n + 1) for _ in range(m + 1)]\n",
    "\n",
    "    for i in range(1, m + 1):\n",
    "        for j in range(1, n + 1):\n",
    "            if s1[i - 1] == s2[j - 1]:\n",
    "                dp[i][j] = dp[i - 1][j - 1] + 1\n",
    "            else:\n",
    "                dp[i][j] = max(dp[i - 1][j], dp[i][j - 1])\n",
    "\n",
    "    lcs_length = dp[m][n]\n",
    "    lcs = []\n",
    "    i, j = m, n\n",
    "    while i > 0 and j > 0:\n",
    "        if s1[i - 1] == s2[j - 1]:\n",
    "            lcs.append(s1[i - 1])\n",
    "            i -= 1\n",
    "            j -= 1\n",
    "        elif dp[i - 1][j] > dp[i][j - 1]:\n",
    "            i -= 1\n",
    "        else:\n",
    "            j -= 1\n",
    "\n",
    "    return lcs[::-1]\n",
    "# usege\n",
    "s1 = \"AGGTAB\"\n",
    "s2 = \"GXTXAYB\"\n",
    "print(\"Longest Common Subsequence:\", ''.join(longest_common_subsequence(s1, s2)))"
   ]
  },
  {
   "cell_type": "code",
   "execution_count": null,
   "id": "4aaf7cf7",
   "metadata": {},
   "outputs": [],
   "source": []
  }
 ],
 "metadata": {
  "kernelspec": {
   "display_name": "Python 3 (ipykernel)",
   "language": "python",
   "name": "python3"
  },
  "language_info": {
   "codemirror_mode": {
    "name": "ipython",
    "version": 3
   },
   "file_extension": ".py",
   "mimetype": "text/x-python",
   "name": "python",
   "nbconvert_exporter": "python",
   "pygments_lexer": "ipython3",
   "version": "3.9.12"
  }
 },
 "nbformat": 4,
 "nbformat_minor": 5
}
